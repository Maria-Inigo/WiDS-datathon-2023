{
 "cells": [
  {
   "cell_type": "markdown",
   "id": "bce1d0a5",
   "metadata": {},
   "source": [
    "#### CRISP"
   ]
  },
  {
   "cell_type": "markdown",
   "id": "19e83e3a",
   "metadata": {},
   "source": [
    "## Business Understanding\n",
    "\n",
    "- There are 2 datasets train_data.csv and test_data.csv\n",
    "- The contest-tmp2m-14d__tmp2m is the mean (tmax+tmin / 2) temperature and is to be predicted for the test data\n",
    "- Latitude and longitude are anonymized so latitude information cannot be used for temperature prediction\n",
    "- startdate indicates the start of a 14 day period\n",
    "- The data provided is between 2014 and 2016, therefore the affect of El Nino is to be considered\n",
    "- nmme forecast values and other forecast values will not be part of the feature set used for this model\n",
    "- The 2010 data for geopotential, wind, etc. will also be discarded for this model\n",
    "- The 2010 data for sea surface temperature will be however used"
   ]
  },
  {
   "cell_type": "markdown",
   "id": "990ed2b4",
   "metadata": {},
   "source": [
    "## Data Understanding"
   ]
  },
  {
   "cell_type": "markdown",
   "id": "2a05a6a2",
   "metadata": {},
   "source": [
    "### Import libraries and set Universal params"
   ]
  },
  {
   "cell_type": "code",
   "execution_count": null,
   "id": "4d1b6155",
   "metadata": {},
   "outputs": [],
   "source": [
    "# Import main libraries for data analysis and modelling\n",
    "import pandas as pd\n",
    "import numpy as np\n",
    "\n",
    "# Import additional helper libraries\n",
    "import os\n",
    "import datetime as dt\n",
    "from IPython.display import display\n",
    "from math import radians, cos, sin, asin, sqrt"
   ]
  },
  {
   "cell_type": "code",
   "execution_count": null,
   "id": "1eb3ac23",
   "metadata": {},
   "outputs": [],
   "source": [
    "pd.set_option(\"display.max.columns\", None)"
   ]
  },
  {
   "cell_type": "markdown",
   "id": "c7d3a477",
   "metadata": {},
   "source": [
    "### Set paths and create dataframes"
   ]
  },
  {
   "cell_type": "code",
   "execution_count": null,
   "id": "ab3a3109",
   "metadata": {},
   "outputs": [],
   "source": [
    "# Define the filepath\n",
    "\n",
    "data_dir = os.path.abspath(os.path.join(os.getcwd(), os.pardir)) + '/data/'\n",
    "\n",
    "train_csv = data_dir + 'train_data.csv'\n",
    "test_csv = data_dir + 'test_data.csv'\n",
    "\n",
    "print(train_csv)\n",
    "print(test_csv)"
   ]
  },
  {
   "cell_type": "code",
   "execution_count": null,
   "id": "79c58395",
   "metadata": {},
   "outputs": [],
   "source": [
    "# Load the training data set\n",
    "train_df_raw = pd.read_csv(train_csv)\n",
    "\n",
    "# Load the test data set\n",
    "test_df_raw = pd.read_csv(test_csv)"
   ]
  },
  {
   "cell_type": "code",
   "execution_count": null,
   "id": "09d6a0fb",
   "metadata": {},
   "outputs": [],
   "source": [
    "train_df_raw.head()"
   ]
  },
  {
   "cell_type": "markdown",
   "id": "0400ba89",
   "metadata": {},
   "source": [
    "## Data Preparation"
   ]
  },
  {
   "cell_type": "markdown",
   "id": "633ce6e2",
   "metadata": {},
   "source": [
    "## Modelling"
   ]
  },
  {
   "cell_type": "markdown",
   "id": "3d52b99c",
   "metadata": {},
   "source": [
    "## Evaluation"
   ]
  }
 ],
 "metadata": {
  "kernelspec": {
   "display_name": "Python 3 (ipykernel)",
   "language": "python",
   "name": "python3"
  },
  "language_info": {
   "codemirror_mode": {
    "name": "ipython",
    "version": 3
   },
   "file_extension": ".py",
   "mimetype": "text/x-python",
   "name": "python",
   "nbconvert_exporter": "python",
   "pygments_lexer": "ipython3",
   "version": "3.11.1"
  }
 },
 "nbformat": 4,
 "nbformat_minor": 5
}
