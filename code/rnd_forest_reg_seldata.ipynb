{
 "cells": [
  {
   "attachments": {},
   "cell_type": "markdown",
   "metadata": {},
   "source": [
    "#### Random Forest Regression model with selected Data"
   ]
  },
  {
   "attachments": {},
   "cell_type": "markdown",
   "metadata": {},
   "source": [
    "#### Initialization"
   ]
  },
  {
   "cell_type": "code",
   "execution_count": 1,
   "metadata": {},
   "outputs": [],
   "source": [
    "# Import main libraries for data analysis and modelling\n",
    "import pandas as pd\n",
    "import numpy as np\n",
    "\n",
    "from sklearn.preprocessing import LabelEncoder\n",
    "from sklearn.impute import SimpleImputer\n",
    "from sklearn.linear_model import LinearRegression\n",
    "from sklearn.model_selection import train_test_split\n",
    "from sklearn.ensemble import RandomForestRegressor\n",
    "from sklearn.metrics import mean_squared_error, mean_absolute_error, r2_score\n",
    "\n",
    "# Import additional helper libraries\n",
    "import os\n"
   ]
  },
  {
   "cell_type": "code",
   "execution_count": 2,
   "metadata": {},
   "outputs": [
    {
     "name": "stdout",
     "output_type": "stream",
     "text": [
      "c:\\Sam\\wids\\WiDS-datathon-2023/data/train_data.csv\n",
      "c:\\Sam\\wids\\WiDS-datathon-2023/data/test_data.csv\n"
     ]
    }
   ],
   "source": [
    "# Define the filepath\n",
    "\n",
    "data_dir = os.path.abspath(os.path.join(os.getcwd(), os.pardir)) + '/data/'\n",
    "\n",
    "train_csv = data_dir + 'train_data.csv'\n",
    "test_csv = data_dir + 'test_data.csv'\n",
    "\n",
    "print(train_csv)\n",
    "print(test_csv)"
   ]
  },
  {
   "cell_type": "code",
   "execution_count": 3,
   "metadata": {},
   "outputs": [],
   "source": [
    "# Load the training data set\n",
    "train_df = pd.read_csv(train_csv)"
   ]
  },
  {
   "attachments": {},
   "cell_type": "markdown",
   "metadata": {},
   "source": [
    "No Analysis will be done on the data as this has already been covered in `exhaustive_data_analysis.ipynb`"
   ]
  },
  {
   "cell_type": "code",
   "execution_count": 4,
   "metadata": {},
   "outputs": [],
   "source": [
    "# Find the target column\n",
    "target_feature = 'contest-tmp2m-14d__tmp2m'"
   ]
  },
  {
   "attachments": {},
   "cell_type": "markdown",
   "metadata": {},
   "source": [
    "#### Data Preparation"
   ]
  },
  {
   "cell_type": "code",
   "execution_count": 5,
   "metadata": {},
   "outputs": [],
   "source": [
    "# Convert startdate from object to various usable types. Month of the year has more impact on weather so Year, Month and Day will be separated\n",
    "train_df['startdate'] = pd.to_datetime(train_df['startdate'], format='%m/%d/%y')\n",
    "train_df['startdate_ordinal'] = train_df['startdate'].apply(lambda x:x.toordinal())\n",
    "train_df['year'] = train_df['startdate'].dt.year\n",
    "train_df['month'] = train_df['startdate'].dt.month\n",
    "train_df['dayofyear'] = train_df['startdate'].dt.day_of_year"
   ]
  },
  {
   "cell_type": "code",
   "execution_count": 6,
   "metadata": {},
   "outputs": [],
   "source": [
    "# Convert Climate regions to string and dummy numerical data for processing\n",
    "train_df['climateregions__climateregion'] = train_df['climateregions__climateregion'].astype(str)\n",
    "train_df['climateregions_num'] = LabelEncoder().fit_transform(train_df['climateregions__climateregion'])"
   ]
  },
  {
   "cell_type": "code",
   "execution_count": 7,
   "metadata": {},
   "outputs": [
    {
     "name": "stdout",
     "output_type": "stream",
     "text": [
      "Columns with null vaules in Training data are Index([], dtype='object')\n",
      "Columns with null vaules in Training data are Index([], dtype='object')\n"
     ]
    }
   ],
   "source": [
    "# Impute null/nan features\n",
    "null_features = train_df.columns[train_df.isnull().any()]\n",
    "\n",
    "imputer = SimpleImputer(missing_values=np.nan, strategy='mean')\n",
    "imputer = imputer.fit(train_df[null_features])\n",
    "\n",
    "train_df[null_features] = imputer.transform(train_df[null_features])\n",
    "print(f'Columns with null vaules in Training data are {train_df.columns[train_df.isnull().any()]}')\n",
    "print(f'Columns with null vaules in Training data are {train_df.columns[train_df.isna().any()]}')"
   ]
  },
  {
   "cell_type": "code",
   "execution_count": 8,
   "metadata": {},
   "outputs": [],
   "source": [
    "# features that are non-numeric\n",
    "nonum_features = ['startdate','startdate_ordinal','climateregions__climateregion','lat','lon','index']\n",
    "\n",
    "# features that are predictions from other models\n",
    "all_features = list(train_df.columns)\n",
    "predict_prefix = ('nmme','cancm','ccsm','cfsv20','gfdl','nasa')\n",
    "\n",
    "predict_features = []\n",
    "for f in all_features:\n",
    "    if f.startswith(predict_prefix):\n",
    "        predict_features.append(f)\n",
    "# print(predict_features)\n",
    "\n",
    "d2010_features = [i for i in all_features if '-2010-' in i]\n",
    "# print(d2010_features)\n",
    "\n",
    "extra_features_drop = ['year','dayofyear','elevation__elevation','contest-pres-sfc-gauss-14d__pres','contest-precip-14d__precip','contest-wind-h100-14d__wind-hgt-100','contest-wind-h10-14d__wind-hgt-10','contest-wind-h850-14d__wind-hgt-850','contest-wind-uwnd-250-14d__wind-uwnd-250','contest-wind-vwnd-250-14d__wind-vwnd-250','mei__mei', 'mei__meirank', 'mei__nip', 'mjo1d__amplitude', 'mjo1d__phase']\n",
    "extra_features_add = ['icec-2010-','sst-2010-1']"
   ]
  },
  {
   "cell_type": "code",
   "execution_count": 9,
   "metadata": {},
   "outputs": [
    {
     "name": "stdout",
     "output_type": "stream",
     "text": [
      "Index(['contest-pevpr-sfc-gauss-14d__pevpr', 'contest-rhum-sig995-14d__rhum',\n",
      "       'contest-tmp2m-14d__tmp2m', 'contest-slp-14d__slp',\n",
      "       'contest-wind-vwnd-925-14d__wind-vwnd-925',\n",
      "       'contest-prwtr-eatm-14d__prwtr',\n",
      "       'contest-wind-uwnd-925-14d__wind-uwnd-925',\n",
      "       'contest-wind-h500-14d__wind-hgt-500', 'sst-2010-1', 'month',\n",
      "       'climateregions_num'],\n",
      "      dtype='object')\n"
     ]
    }
   ],
   "source": [
    "# Drop features not selected for this model\n",
    "features_to_drop = nonum_features + predict_features + d2010_features + extra_features_drop\n",
    "features_to_drop = [i for i in features_to_drop if i not in extra_features_add]\n",
    "\n",
    "X = train_df.copy()\n",
    "X = X.drop(features_to_drop, axis=1)\n",
    "y = train_df[target_feature].copy()\n",
    "\n",
    "print(X.columns)"
   ]
  },
  {
   "attachments": {},
   "cell_type": "markdown",
   "metadata": {},
   "source": [
    "#### Modelling"
   ]
  },
  {
   "cell_type": "code",
   "execution_count": 10,
   "metadata": {},
   "outputs": [],
   "source": [
    "# Split data in train and test\n",
    "X_train, X_test, y_train, y_test = train_test_split(X, y, random_state=77, train_size=0.8, shuffle=True)"
   ]
  },
  {
   "cell_type": "code",
   "execution_count": 11,
   "metadata": {},
   "outputs": [
    {
     "data": {
      "text/html": [
       "<style>#sk-container-id-1 {color: black;background-color: white;}#sk-container-id-1 pre{padding: 0;}#sk-container-id-1 div.sk-toggleable {background-color: white;}#sk-container-id-1 label.sk-toggleable__label {cursor: pointer;display: block;width: 100%;margin-bottom: 0;padding: 0.3em;box-sizing: border-box;text-align: center;}#sk-container-id-1 label.sk-toggleable__label-arrow:before {content: \"▸\";float: left;margin-right: 0.25em;color: #696969;}#sk-container-id-1 label.sk-toggleable__label-arrow:hover:before {color: black;}#sk-container-id-1 div.sk-estimator:hover label.sk-toggleable__label-arrow:before {color: black;}#sk-container-id-1 div.sk-toggleable__content {max-height: 0;max-width: 0;overflow: hidden;text-align: left;background-color: #f0f8ff;}#sk-container-id-1 div.sk-toggleable__content pre {margin: 0.2em;color: black;border-radius: 0.25em;background-color: #f0f8ff;}#sk-container-id-1 input.sk-toggleable__control:checked~div.sk-toggleable__content {max-height: 200px;max-width: 100%;overflow: auto;}#sk-container-id-1 input.sk-toggleable__control:checked~label.sk-toggleable__label-arrow:before {content: \"▾\";}#sk-container-id-1 div.sk-estimator input.sk-toggleable__control:checked~label.sk-toggleable__label {background-color: #d4ebff;}#sk-container-id-1 div.sk-label input.sk-toggleable__control:checked~label.sk-toggleable__label {background-color: #d4ebff;}#sk-container-id-1 input.sk-hidden--visually {border: 0;clip: rect(1px 1px 1px 1px);clip: rect(1px, 1px, 1px, 1px);height: 1px;margin: -1px;overflow: hidden;padding: 0;position: absolute;width: 1px;}#sk-container-id-1 div.sk-estimator {font-family: monospace;background-color: #f0f8ff;border: 1px dotted black;border-radius: 0.25em;box-sizing: border-box;margin-bottom: 0.5em;}#sk-container-id-1 div.sk-estimator:hover {background-color: #d4ebff;}#sk-container-id-1 div.sk-parallel-item::after {content: \"\";width: 100%;border-bottom: 1px solid gray;flex-grow: 1;}#sk-container-id-1 div.sk-label:hover label.sk-toggleable__label {background-color: #d4ebff;}#sk-container-id-1 div.sk-serial::before {content: \"\";position: absolute;border-left: 1px solid gray;box-sizing: border-box;top: 0;bottom: 0;left: 50%;z-index: 0;}#sk-container-id-1 div.sk-serial {display: flex;flex-direction: column;align-items: center;background-color: white;padding-right: 0.2em;padding-left: 0.2em;position: relative;}#sk-container-id-1 div.sk-item {position: relative;z-index: 1;}#sk-container-id-1 div.sk-parallel {display: flex;align-items: stretch;justify-content: center;background-color: white;position: relative;}#sk-container-id-1 div.sk-item::before, #sk-container-id-1 div.sk-parallel-item::before {content: \"\";position: absolute;border-left: 1px solid gray;box-sizing: border-box;top: 0;bottom: 0;left: 50%;z-index: -1;}#sk-container-id-1 div.sk-parallel-item {display: flex;flex-direction: column;z-index: 1;position: relative;background-color: white;}#sk-container-id-1 div.sk-parallel-item:first-child::after {align-self: flex-end;width: 50%;}#sk-container-id-1 div.sk-parallel-item:last-child::after {align-self: flex-start;width: 50%;}#sk-container-id-1 div.sk-parallel-item:only-child::after {width: 0;}#sk-container-id-1 div.sk-dashed-wrapped {border: 1px dashed gray;margin: 0 0.4em 0.5em 0.4em;box-sizing: border-box;padding-bottom: 0.4em;background-color: white;}#sk-container-id-1 div.sk-label label {font-family: monospace;font-weight: bold;display: inline-block;line-height: 1.2em;}#sk-container-id-1 div.sk-label-container {text-align: center;}#sk-container-id-1 div.sk-container {/* jupyter's `normalize.less` sets `[hidden] { display: none; }` but bootstrap.min.css set `[hidden] { display: none !important; }` so we also need the `!important` here to be able to override the default hidden behavior on the sphinx rendered scikit-learn.org. See: https://github.com/scikit-learn/scikit-learn/issues/21755 */display: inline-block !important;position: relative;}#sk-container-id-1 div.sk-text-repr-fallback {display: none;}</style><div id=\"sk-container-id-1\" class=\"sk-top-container\"><div class=\"sk-text-repr-fallback\"><pre>RandomForestRegressor(random_state=42)</pre><b>In a Jupyter environment, please rerun this cell to show the HTML representation or trust the notebook. <br />On GitHub, the HTML representation is unable to render, please try loading this page with nbviewer.org.</b></div><div class=\"sk-container\" hidden><div class=\"sk-item\"><div class=\"sk-estimator sk-toggleable\"><input class=\"sk-toggleable__control sk-hidden--visually\" id=\"sk-estimator-id-1\" type=\"checkbox\" checked><label for=\"sk-estimator-id-1\" class=\"sk-toggleable__label sk-toggleable__label-arrow\">RandomForestRegressor</label><div class=\"sk-toggleable__content\"><pre>RandomForestRegressor(random_state=42)</pre></div></div></div></div></div>"
      ],
      "text/plain": [
       "RandomForestRegressor(random_state=42)"
      ]
     },
     "execution_count": 11,
     "metadata": {},
     "output_type": "execute_result"
    }
   ],
   "source": [
    "# Train the model\n",
    "model = RandomForestRegressor(n_estimators=100, random_state=42)\n",
    "model.fit(X_train,y_train)"
   ]
  },
  {
   "cell_type": "code",
   "execution_count": 12,
   "metadata": {},
   "outputs": [
    {
     "name": "stdout",
     "output_type": "stream",
     "text": [
      "0.9999999891778538\n"
     ]
    }
   ],
   "source": [
    "# Check results\n",
    "print(model.score(X_test, y_test))"
   ]
  },
  {
   "cell_type": "code",
   "execution_count": 13,
   "metadata": {},
   "outputs": [],
   "source": [
    "# Predictions\n",
    "pred = model.predict(X_test)"
   ]
  },
  {
   "cell_type": "code",
   "execution_count": 14,
   "metadata": {},
   "outputs": [
    {
     "name": "stdout",
     "output_type": "stream",
     "text": [
      "mean_squared_error :  0.0010301513037367894\n",
      "mean_absolute_error :  0.0001405010153404143\n",
      "R2 score :  0.9999999891778538\n"
     ]
    }
   ],
   "source": [
    "# model evaluation\n",
    "print('mean_squared_error : ', mean_squared_error(y_test, pred, squared=False))\n",
    "print('mean_absolute_error : ', mean_absolute_error(y_test, pred))\n",
    "print('R2 score : ', r2_score(y_test, pred))"
   ]
  },
  {
   "cell_type": "code",
   "execution_count": null,
   "metadata": {},
   "outputs": [],
   "source": []
  }
 ],
 "metadata": {
  "kernelspec": {
   "display_name": "Python 3",
   "language": "python",
   "name": "python3"
  },
  "language_info": {
   "codemirror_mode": {
    "name": "ipython",
    "version": 3
   },
   "file_extension": ".py",
   "mimetype": "text/x-python",
   "name": "python",
   "nbconvert_exporter": "python",
   "pygments_lexer": "ipython3",
   "version": "3.11.1"
  },
  "orig_nbformat": 4,
  "vscode": {
   "interpreter": {
    "hash": "c261aea317cc0286b3b3261fbba9abdec21eaa57589985bb7a274bf54d6cc0a7"
   }
  }
 },
 "nbformat": 4,
 "nbformat_minor": 2
}
