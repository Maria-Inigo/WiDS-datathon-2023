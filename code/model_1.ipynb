{
 "cells": [
  {
   "attachments": {},
   "cell_type": "markdown",
   "metadata": {},
   "source": [
    "### First model using scikit learn linear regression\n",
    "This is a first attempt to train using the given data using a linear regression model\n",
    "The data will be analyzed based on startdate, locations"
   ]
  },
  {
   "attachments": {},
   "cell_type": "markdown",
   "metadata": {},
   "source": [
    "#### Import libraries and define constants"
   ]
  },
  {
   "cell_type": "code",
   "execution_count": null,
   "metadata": {},
   "outputs": [],
   "source": [
    "# Import necessary libraries\n",
    "import pandas as pd\n",
    "from sklearn.linear_model import LinearRegression\n",
    "from sklearn.metrics import mean_squared_error\n",
    "from shapely.geometry import Point\n",
    "\n",
    "# Import additional libraries\n",
    "import os\n",
    "from IPython.display import display\n"
   ]
  },
  {
   "cell_type": "code",
   "execution_count": null,
   "metadata": {},
   "outputs": [],
   "source": [
    "# Define the filepath\n",
    "\n",
    "data_dir = os.path.abspath(os.path.join(os.getcwd(), os.pardir)) + '/data'\n",
    "\n",
    "training_csv = data_dir + '/train_data.csv'\n",
    "test_csv = data_dir + '/test_data.csv'\n",
    "\n",
    "print(training_csv)\n",
    "print(test_csv)"
   ]
  },
  {
   "attachments": {},
   "cell_type": "markdown",
   "metadata": {},
   "source": [
    "#### Define dataframes and add necessary features"
   ]
  },
  {
   "cell_type": "code",
   "execution_count": null,
   "metadata": {},
   "outputs": [],
   "source": [
    "# Load the training data set\n",
    "training_data = pd.read_csv(training_csv)\n",
    "\n",
    "# Load the test data set\n",
    "test_data = pd.read_csv(test_csv)"
   ]
  },
  {
   "cell_type": "code",
   "execution_count": null,
   "metadata": {},
   "outputs": [],
   "source": [
    "# Get all column names in file\n",
    "with open('training_columns.txt', 'w', encoding='utf-8') as f:\n",
    "    for col in training_data.columns:\n",
    "        f.write(col+'\\n')\n",
    "\n",
    "with open('test_columns.txt', 'w', encoding='utf-8') as f:\n",
    "    for col in test_data.columns:\n",
    "        f.write(col+'\\n')\n",
    "\n",
    "# display(training_data.describe())\n",
    "# display(test_data.describe())"
   ]
  },
  {
   "cell_type": "code",
   "execution_count": null,
   "metadata": {},
   "outputs": [],
   "source": [
    "# Find the target column\n",
    "target_column = training_data.columns.difference(test_data.columns)[0]\n",
    "print(f'The target column for prediction is {target_column}')"
   ]
  },
  {
   "cell_type": "code",
   "execution_count": null,
   "metadata": {},
   "outputs": [],
   "source": [
    "training_data.describe()"
   ]
  },
  {
   "cell_type": "code",
   "execution_count": null,
   "metadata": {},
   "outputs": [],
   "source": [
    "# Typecaste startdate to datetime for easier handling\n",
    "training_data.startdate = pd.to_datetime(training_data.startdate, format='%m/%d/%y')\n",
    "test_data.startdate = pd.to_datetime(test_data.startdate, format='%m/%d/%y')"
   ]
  },
  {
   "cell_type": "code",
   "execution_count": null,
   "metadata": {},
   "outputs": [],
   "source": [
    "# Get current precision of latitude and longitude\n",
    "loc_data = training_data[['lat','lon']]\n",
    "precision = loc_data.applymap(lambda x: len(str(x).split('.')[1]))\n",
    "\n",
    "print(f'Current precision of latitude in training data is {precision.lat.max()}')\n",
    "print(f'Current precision of longitude in training data is {precision.lon.max()}')\n",
    "\n",
    "loc_data = test_data[['lat','lon']]\n",
    "precision = loc_data.applymap(lambda x: len(str(x).split('.')[1]))\n",
    "\n",
    "print(f'Current precision of latitude in test data is {precision.lat.max()}')\n",
    "print(f'Current precision of longitude in test data is {precision.lon.max()}')\n"
   ]
  },
  {
   "cell_type": "code",
   "execution_count": null,
   "metadata": {},
   "outputs": [],
   "source": [
    "# Add standard 15 digit decimal places precision to latitude and longitude\n",
    "training_data['lat'] = training_data['lat'].round(15)\n",
    "training_data['lon'] = training_data['lon'].round(15)\n",
    "test_data['lat'] = training_data['lat'].round(15)\n",
    "test_data['lon'] = training_data['lon'].round(15)"
   ]
  },
  {
   "cell_type": "code",
   "execution_count": null,
   "metadata": {},
   "outputs": [],
   "source": [
    "# Combine latitude and longitude to generate unique geolocations\n",
    "training_data['location'] = training_data.apply(lambda x: Point(x['lon'], x['lat']), axis=1)\n",
    "print(f'There are {training_data.location.nunique()} unique locations in training data')\n",
    "\n",
    "test_data['location'] = test_data.apply(lambda x: Point(x['lon'], x['lat']), axis=1)\n",
    "print(f'There are {test_data.location.nunique()} unique locations in test data')"
   ]
  },
  {
   "cell_type": "code",
   "execution_count": null,
   "metadata": {},
   "outputs": [],
   "source": [
    "# Get unique locations by combining test and training data and grouping by latitude and longitude\n",
    "combined_data = pd.concat([training_data,test_data], axis=0)\n",
    "combined_data['location'] = combined_data.apply(lambda x: Point(x['lon'], x['lat']), axis=1)\n",
    "print(f'There are {combined_data.location.nunique()} unique locations in combined data')"
   ]
  },
  {
   "cell_type": "code",
   "execution_count": null,
   "metadata": {},
   "outputs": [],
   "source": [
    "# Split combined data into training and test dataframe with location\n",
    "training_data = combined_data.iloc[:len(training_data)]\n",
    "test_data = combined_data.iloc[len(training_data):]"
   ]
  },
  {
   "cell_type": "code",
   "execution_count": null,
   "metadata": {},
   "outputs": [],
   "source": [
    "# Create target data\n",
    "target_data = training_data[target_column]"
   ]
  },
  {
   "attachments": {},
   "cell_type": "markdown",
   "metadata": {},
   "source": [
    "#### Data wrangling starts here"
   ]
  },
  {
   "attachments": {},
   "cell_type": "markdown",
   "metadata": {},
   "source": [
    "### Dummy data training codes"
   ]
  },
  {
   "cell_type": "code",
   "execution_count": null,
   "metadata": {},
   "outputs": [],
   "source": [
    "# Train the model\n",
    "model = LinearRegression().fit(training_data, target_data)"
   ]
  },
  {
   "cell_type": "code",
   "execution_count": null,
   "metadata": {},
   "outputs": [],
   "source": [
    "# Predict the target values for the test data\n",
    "predictions = model.predict(test_data)"
   ]
  },
  {
   "cell_type": "code",
   "execution_count": null,
   "metadata": {},
   "outputs": [],
   "source": [
    "# Calculate the mean squared error between the predicted and actual target values\n",
    "mse = mean_squared_error(target_data, predictions)\n",
    "print(\"Mean Squared Error:\", mse)"
   ]
  }
 ],
 "metadata": {
  "kernelspec": {
   "display_name": "Python 3",
   "language": "python",
   "name": "python3"
  },
  "language_info": {
   "codemirror_mode": {
    "name": "ipython",
    "version": 3
   },
   "file_extension": ".py",
   "mimetype": "text/x-python",
   "name": "python",
   "nbconvert_exporter": "python",
   "pygments_lexer": "ipython3",
   "version": "3.11.1"
  },
  "orig_nbformat": 4,
  "vscode": {
   "interpreter": {
    "hash": "c261aea317cc0286b3b3261fbba9abdec21eaa57589985bb7a274bf54d6cc0a7"
   }
  }
 },
 "nbformat": 4,
 "nbformat_minor": 2
}
