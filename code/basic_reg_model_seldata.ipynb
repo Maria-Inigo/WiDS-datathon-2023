{
 "cells": [
  {
   "attachments": {},
   "cell_type": "markdown",
   "metadata": {},
   "source": [
    "#### Basic Regression model with selected Data"
   ]
  },
  {
   "attachments": {},
   "cell_type": "markdown",
   "metadata": {},
   "source": [
    "#### Initialization"
   ]
  },
  {
   "cell_type": "code",
   "execution_count": null,
   "metadata": {},
   "outputs": [],
   "source": [
    "# Import main libraries for data analysis and modelling\n",
    "import pandas as pd\n",
    "import numpy as np\n",
    "\n",
    "from sklearn.preprocessing import LabelEncoder\n",
    "from sklearn.impute import SimpleImputer\n",
    "from sklearn.linear_model import LinearRegression\n",
    "from sklearn.model_selection import train_test_split\n",
    "from sklearn.metrics import mean_squared_error, mean_absolute_error, r2_score\n",
    "\n",
    "from matplotlib import pyplot as plt\n",
    "from mpl_toolkits import mplot3d\n",
    "\n",
    "# Import additional helper libraries\n",
    "import os\n",
    "from IPython.display import display\n"
   ]
  },
  {
   "cell_type": "code",
   "execution_count": null,
   "metadata": {},
   "outputs": [],
   "source": [
    "# Define the filepath\n",
    "\n",
    "data_dir = os.path.abspath(os.path.join(os.getcwd(), os.pardir)) + '/data/'\n",
    "\n",
    "train_csv = data_dir + 'train_data.csv'\n",
    "test_csv = data_dir + 'test_data.csv'\n",
    "\n",
    "print(train_csv)\n",
    "print(test_csv)"
   ]
  },
  {
   "cell_type": "code",
   "execution_count": null,
   "metadata": {},
   "outputs": [],
   "source": [
    "# Load the training data set\n",
    "train_df = pd.read_csv(train_csv)"
   ]
  },
  {
   "attachments": {},
   "cell_type": "markdown",
   "metadata": {},
   "source": [
    "No Analysis will be done on the data as this has already been covered in `exhaustive_data_analysis.ipynb`"
   ]
  },
  {
   "cell_type": "code",
   "execution_count": null,
   "metadata": {},
   "outputs": [],
   "source": [
    "# Find the target column\n",
    "target_feature = 'contest-tmp2m-14d__tmp2m'"
   ]
  },
  {
   "attachments": {},
   "cell_type": "markdown",
   "metadata": {},
   "source": [
    "#### Data Preparation"
   ]
  },
  {
   "cell_type": "code",
   "execution_count": null,
   "metadata": {},
   "outputs": [],
   "source": [
    "# Convert startdate from object to various usable types. Month of the year has more impact on weather so Year, Month and Day will be separated\n",
    "train_df['startdate'] = pd.to_datetime(train_df['startdate'], format='%m/%d/%y')\n",
    "train_df['startdate_ordinal'] = train_df['startdate'].apply(lambda x:x.toordinal())\n",
    "train_df['year'] = train_df['startdate'].dt.year\n",
    "train_df['month'] = train_df['startdate'].dt.month\n",
    "train_df['dayofyear'] = train_df['startdate'].dt.day_of_year"
   ]
  },
  {
   "cell_type": "code",
   "execution_count": null,
   "metadata": {},
   "outputs": [],
   "source": [
    "# Convert Climate regions to string and dummy numerical data for processing\n",
    "train_df['climateregions__climateregion'] = train_df['climateregions__climateregion'].astype(str)\n",
    "train_df['climateregions_num'] = LabelEncoder().fit_transform(train_df['climateregions__climateregion'])"
   ]
  },
  {
   "cell_type": "code",
   "execution_count": null,
   "metadata": {},
   "outputs": [],
   "source": [
    "# Impute null/nan features\n",
    "null_features = train_df.columns[train_df.isnull().any()]\n",
    "\n",
    "imputer = SimpleImputer(missing_values=np.nan, strategy='mean')\n",
    "imputer = imputer.fit(train_df[null_features])\n",
    "\n",
    "train_df[null_features] = imputer.transform(train_df[null_features])\n",
    "print(f'Columns with null vaules in Training data are {train_df.columns[train_df.isnull().any()]}')\n",
    "print(f'Columns with null vaules in Training data are {train_df.columns[train_df.isna().any()]}')"
   ]
  },
  {
   "cell_type": "code",
   "execution_count": null,
   "metadata": {},
   "outputs": [],
   "source": [
    "# features that are non-numeric\n",
    "nonum_features = ['startdate','startdate_ordinal','climateregions__climateregion','lat','lon','index']\n",
    "\n",
    "# features that are predictions from other models\n",
    "all_features = list(train_df.columns)\n",
    "predict_prefix = ('nmme','cancm','ccsm','cfsv20','gfdl','nasa')\n",
    "\n",
    "predict_features = []\n",
    "for f in all_features:\n",
    "    if f.startswith(predict_prefix):\n",
    "        predict_features.append(f)\n",
    "# print(predict_features)\n",
    "\n",
    "d2010_features = [i for i in all_features if '-2010-' in i]\n",
    "# print(d2010_features)"
   ]
  },
  {
   "cell_type": "code",
   "execution_count": null,
   "metadata": {},
   "outputs": [],
   "source": [
    "# Drop features not selected for this model\n",
    "features_to_drop = nonum_features + predict_features + d2010_features\n",
    "features_to_drop.remove('sst-2010-1')\n",
    "features_to_drop.remove('icec-2010-1')\n",
    "# print(features_to_drop)\n",
    "\n",
    "X = train_df.copy()\n",
    "X = X.drop(features_to_drop, axis=1)\n",
    "y = train_df[target_feature].copy()"
   ]
  },
  {
   "attachments": {},
   "cell_type": "markdown",
   "metadata": {},
   "source": [
    "#### Modelling"
   ]
  },
  {
   "cell_type": "code",
   "execution_count": null,
   "metadata": {},
   "outputs": [],
   "source": [
    "# Split data in train and test\n",
    "X_train, X_test, y_train, y_test = train_test_split(X, y, random_state=104, train_size=0.8, shuffle=True)"
   ]
  },
  {
   "cell_type": "code",
   "execution_count": null,
   "metadata": {},
   "outputs": [],
   "source": [
    "# Train the model\n",
    "model = LinearRegression().fit(X_train, y_train)"
   ]
  },
  {
   "cell_type": "code",
   "execution_count": null,
   "metadata": {},
   "outputs": [],
   "source": [
    "# Check results\n",
    "print(model.score(X_test, y_test))"
   ]
  },
  {
   "cell_type": "code",
   "execution_count": null,
   "metadata": {},
   "outputs": [],
   "source": [
    "# Predictions\n",
    "pred = model.predict(X_test)"
   ]
  },
  {
   "cell_type": "code",
   "execution_count": null,
   "metadata": {},
   "outputs": [],
   "source": [
    "# model evaluation\n",
    "print('mean_squared_error : ', mean_squared_error(y_test, pred))\n",
    "print('mean_absolute_error : ', mean_absolute_error(y_test, pred))\n",
    "print('R2 score : ', r2_score(y_test, pred))"
   ]
  },
  {
   "cell_type": "code",
   "execution_count": null,
   "metadata": {},
   "outputs": [],
   "source": []
  }
 ],
 "metadata": {
  "kernelspec": {
   "display_name": "Python 3",
   "language": "python",
   "name": "python3"
  },
  "language_info": {
   "codemirror_mode": {
    "name": "ipython",
    "version": 3
   },
   "file_extension": ".py",
   "mimetype": "text/x-python",
   "name": "python",
   "nbconvert_exporter": "python",
   "pygments_lexer": "ipython3",
   "version": "3.11.1"
  },
  "orig_nbformat": 4,
  "vscode": {
   "interpreter": {
    "hash": "c261aea317cc0286b3b3261fbba9abdec21eaa57589985bb7a274bf54d6cc0a7"
   }
  }
 },
 "nbformat": 4,
 "nbformat_minor": 2
}
